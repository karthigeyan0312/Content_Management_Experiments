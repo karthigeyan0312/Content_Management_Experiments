{
 "cells": [
  {
   "cell_type": "code",
   "execution_count": 1,
   "id": "d16c3966",
   "metadata": {
    "_cell_guid": "b1076dfc-b9ad-4769-8c92-a6c4dae69d19",
    "_uuid": "8f2839f25d086af736a60e9eeb907d3b93b6e0e5",
    "execution": {
     "iopub.execute_input": "2022-05-03T07:26:09.239883Z",
     "iopub.status.busy": "2022-05-03T07:26:09.239429Z",
     "iopub.status.idle": "2022-05-03T07:26:09.259513Z",
     "shell.execute_reply": "2022-05-03T07:26:09.258609Z"
    },
    "papermill": {
     "duration": 0.05996,
     "end_time": "2022-05-03T07:26:09.263436",
     "exception": false,
     "start_time": "2022-05-03T07:26:09.203476",
     "status": "completed"
    },
    "tags": []
   },
   "outputs": [
    {
     "name": "stdout",
     "output_type": "stream",
     "text": [
      "/kaggle/input/bigmartsalesdataset/bigmart.csv\n"
     ]
    }
   ],
   "source": [
    "# This Python 3 environment comes with many helpful analytics libraries installed\n",
    "# It is defined by the kaggle/python Docker image: https://github.com/kaggle/docker-python\n",
    "# For example, here's several helpful packages to load\n",
    "\n",
    "import numpy as np # linear algebra\n",
    "import pandas as pd # data processing, CSV file I/O (e.g. pd.read_csv)\n",
    "\n",
    "# Input data files are available in the read-only \"../input/\" directory\n",
    "# For example, running this (by clicking run or pressing Shift+Enter) will list all files under the input directory\n",
    "\n",
    "import os\n",
    "for dirname, _, filenames in os.walk('/kaggle/input'):\n",
    "    for filename in filenames:\n",
    "        print(os.path.join(dirname, filename))\n",
    "\n",
    "# You can write up to 20GB to the current directory (/kaggle/working/) that gets preserved as output when you create a version using \"Save & Run All\" \n",
    "# You can also write temporary files to /kaggle/temp/, but they won't be saved outside of the current session"
   ]
  },
  {
   "cell_type": "markdown",
   "id": "0ba1312b",
   "metadata": {
    "papermill": {
     "duration": 0.031481,
     "end_time": "2022-05-03T07:26:09.328621",
     "exception": false,
     "start_time": "2022-05-03T07:26:09.297140",
     "status": "completed"
    },
    "tags": []
   },
   "source": [
    "## Import the dataset and visualize the first five rows of the dataset."
   ]
  },
  {
   "cell_type": "code",
   "execution_count": 2,
   "id": "59a26a98",
   "metadata": {
    "execution": {
     "iopub.execute_input": "2022-05-03T07:26:09.394334Z",
     "iopub.status.busy": "2022-05-03T07:26:09.394024Z",
     "iopub.status.idle": "2022-05-03T07:26:09.453661Z",
     "shell.execute_reply": "2022-05-03T07:26:09.453024Z"
    },
    "papermill": {
     "duration": 0.095662,
     "end_time": "2022-05-03T07:26:09.456313",
     "exception": false,
     "start_time": "2022-05-03T07:26:09.360651",
     "status": "completed"
    },
    "tags": []
   },
   "outputs": [
    {
     "data": {
      "text/html": [
       "<div>\n",
       "<style scoped>\n",
       "    .dataframe tbody tr th:only-of-type {\n",
       "        vertical-align: middle;\n",
       "    }\n",
       "\n",
       "    .dataframe tbody tr th {\n",
       "        vertical-align: top;\n",
       "    }\n",
       "\n",
       "    .dataframe thead th {\n",
       "        text-align: right;\n",
       "    }\n",
       "</style>\n",
       "<table border=\"1\" class=\"dataframe\">\n",
       "  <thead>\n",
       "    <tr style=\"text-align: right;\">\n",
       "      <th></th>\n",
       "      <th>Item_Identifier</th>\n",
       "      <th>Item_Weight</th>\n",
       "      <th>Item_Fat_Content</th>\n",
       "      <th>Item_Visibility</th>\n",
       "      <th>Item_Type</th>\n",
       "      <th>Item_MRP</th>\n",
       "      <th>Outlet_Identifier</th>\n",
       "      <th>Outlet_Establishment_Year</th>\n",
       "      <th>Outlet_Size</th>\n",
       "      <th>Outlet_Location_Type</th>\n",
       "      <th>Outlet_Type</th>\n",
       "      <th>Item_Outlet_Sales</th>\n",
       "    </tr>\n",
       "  </thead>\n",
       "  <tbody>\n",
       "    <tr>\n",
       "      <th>0</th>\n",
       "      <td>FDA15</td>\n",
       "      <td>9.30</td>\n",
       "      <td>Low Fat</td>\n",
       "      <td>0.016047</td>\n",
       "      <td>Dairy</td>\n",
       "      <td>249.8092</td>\n",
       "      <td>OUT049</td>\n",
       "      <td>1999</td>\n",
       "      <td>Medium</td>\n",
       "      <td>Tier 1</td>\n",
       "      <td>Supermarket Type1</td>\n",
       "      <td>3735.1380</td>\n",
       "    </tr>\n",
       "    <tr>\n",
       "      <th>1</th>\n",
       "      <td>DRC01</td>\n",
       "      <td>5.92</td>\n",
       "      <td>Regular</td>\n",
       "      <td>0.019278</td>\n",
       "      <td>Soft Drinks</td>\n",
       "      <td>48.2692</td>\n",
       "      <td>OUT018</td>\n",
       "      <td>2009</td>\n",
       "      <td>Medium</td>\n",
       "      <td>Tier 3</td>\n",
       "      <td>Supermarket Type2</td>\n",
       "      <td>443.4228</td>\n",
       "    </tr>\n",
       "    <tr>\n",
       "      <th>2</th>\n",
       "      <td>FDN15</td>\n",
       "      <td>17.50</td>\n",
       "      <td>Low Fat</td>\n",
       "      <td>0.016760</td>\n",
       "      <td>Meat</td>\n",
       "      <td>141.6180</td>\n",
       "      <td>OUT049</td>\n",
       "      <td>1999</td>\n",
       "      <td>Medium</td>\n",
       "      <td>Tier 1</td>\n",
       "      <td>Supermarket Type1</td>\n",
       "      <td>2097.2700</td>\n",
       "    </tr>\n",
       "    <tr>\n",
       "      <th>3</th>\n",
       "      <td>FDX07</td>\n",
       "      <td>19.20</td>\n",
       "      <td>Regular</td>\n",
       "      <td>0.000000</td>\n",
       "      <td>Fruits and Vegetables</td>\n",
       "      <td>182.0950</td>\n",
       "      <td>OUT010</td>\n",
       "      <td>1998</td>\n",
       "      <td>NaN</td>\n",
       "      <td>Tier 3</td>\n",
       "      <td>Grocery Store</td>\n",
       "      <td>732.3800</td>\n",
       "    </tr>\n",
       "    <tr>\n",
       "      <th>4</th>\n",
       "      <td>NCD19</td>\n",
       "      <td>8.93</td>\n",
       "      <td>Low Fat</td>\n",
       "      <td>0.000000</td>\n",
       "      <td>Household</td>\n",
       "      <td>53.8614</td>\n",
       "      <td>OUT013</td>\n",
       "      <td>1987</td>\n",
       "      <td>High</td>\n",
       "      <td>Tier 3</td>\n",
       "      <td>Supermarket Type1</td>\n",
       "      <td>994.7052</td>\n",
       "    </tr>\n",
       "  </tbody>\n",
       "</table>\n",
       "</div>"
      ],
      "text/plain": [
       "  Item_Identifier  Item_Weight Item_Fat_Content  Item_Visibility  \\\n",
       "0           FDA15         9.30          Low Fat         0.016047   \n",
       "1           DRC01         5.92          Regular         0.019278   \n",
       "2           FDN15        17.50          Low Fat         0.016760   \n",
       "3           FDX07        19.20          Regular         0.000000   \n",
       "4           NCD19         8.93          Low Fat         0.000000   \n",
       "\n",
       "               Item_Type  Item_MRP Outlet_Identifier  \\\n",
       "0                  Dairy  249.8092            OUT049   \n",
       "1            Soft Drinks   48.2692            OUT018   \n",
       "2                   Meat  141.6180            OUT049   \n",
       "3  Fruits and Vegetables  182.0950            OUT010   \n",
       "4              Household   53.8614            OUT013   \n",
       "\n",
       "   Outlet_Establishment_Year Outlet_Size Outlet_Location_Type  \\\n",
       "0                       1999      Medium               Tier 1   \n",
       "1                       2009      Medium               Tier 3   \n",
       "2                       1999      Medium               Tier 1   \n",
       "3                       1998         NaN               Tier 3   \n",
       "4                       1987        High               Tier 3   \n",
       "\n",
       "         Outlet_Type  Item_Outlet_Sales  \n",
       "0  Supermarket Type1          3735.1380  \n",
       "1  Supermarket Type2           443.4228  \n",
       "2  Supermarket Type1          2097.2700  \n",
       "3      Grocery Store           732.3800  \n",
       "4  Supermarket Type1           994.7052  "
      ]
     },
     "execution_count": 2,
     "metadata": {},
     "output_type": "execute_result"
    }
   ],
   "source": [
    "import pandas as pd\n",
    "import numpy as np\n",
    "\n",
    "df = pd.read_csv('/kaggle/input/bigmartsalesdataset/bigmart.csv')\n",
    "df.head()"
   ]
  },
  {
   "cell_type": "markdown",
   "id": "f5827edb",
   "metadata": {
    "papermill": {
     "duration": 0.032303,
     "end_time": "2022-05-03T07:26:09.523653",
     "exception": false,
     "start_time": "2022-05-03T07:26:09.491350",
     "status": "completed"
    },
    "tags": []
   },
   "source": [
    "## Exploratory Data Analysis"
   ]
  },
  {
   "cell_type": "markdown",
   "id": "0fd20531",
   "metadata": {
    "papermill": {
     "duration": 0.032544,
     "end_time": "2022-05-03T07:26:09.589327",
     "exception": false,
     "start_time": "2022-05-03T07:26:09.556783",
     "status": "completed"
    },
    "tags": []
   },
   "source": [
    "### Descriptive Statistics"
   ]
  },
  {
   "cell_type": "code",
   "execution_count": 3,
   "id": "8dcaf027",
   "metadata": {
    "execution": {
     "iopub.execute_input": "2022-05-03T07:26:09.657464Z",
     "iopub.status.busy": "2022-05-03T07:26:09.656853Z",
     "iopub.status.idle": "2022-05-03T07:26:09.684302Z",
     "shell.execute_reply": "2022-05-03T07:26:09.682945Z"
    },
    "papermill": {
     "duration": 0.065107,
     "end_time": "2022-05-03T07:26:09.687252",
     "exception": false,
     "start_time": "2022-05-03T07:26:09.622145",
     "status": "completed"
    },
    "tags": []
   },
   "outputs": [
    {
     "name": "stdout",
     "output_type": "stream",
     "text": [
      "<class 'pandas.core.frame.DataFrame'>\n",
      "RangeIndex: 8523 entries, 0 to 8522\n",
      "Data columns (total 12 columns):\n",
      " #   Column                     Non-Null Count  Dtype  \n",
      "---  ------                     --------------  -----  \n",
      " 0   Item_Identifier            8523 non-null   object \n",
      " 1   Item_Weight                7060 non-null   float64\n",
      " 2   Item_Fat_Content           8523 non-null   object \n",
      " 3   Item_Visibility            8523 non-null   float64\n",
      " 4   Item_Type                  8523 non-null   object \n",
      " 5   Item_MRP                   8523 non-null   float64\n",
      " 6   Outlet_Identifier          8523 non-null   object \n",
      " 7   Outlet_Establishment_Year  8523 non-null   int64  \n",
      " 8   Outlet_Size                6113 non-null   object \n",
      " 9   Outlet_Location_Type       8523 non-null   object \n",
      " 10  Outlet_Type                8523 non-null   object \n",
      " 11  Item_Outlet_Sales          8523 non-null   float64\n",
      "dtypes: float64(4), int64(1), object(7)\n",
      "memory usage: 799.2+ KB\n"
     ]
    }
   ],
   "source": [
    "df.info()"
   ]
  },
  {
   "cell_type": "code",
   "execution_count": 4,
   "id": "fe5b71ac",
   "metadata": {
    "execution": {
     "iopub.execute_input": "2022-05-03T07:26:09.755690Z",
     "iopub.status.busy": "2022-05-03T07:26:09.755086Z",
     "iopub.status.idle": "2022-05-03T07:26:11.064780Z",
     "shell.execute_reply": "2022-05-03T07:26:11.064215Z"
    },
    "papermill": {
     "duration": 1.347488,
     "end_time": "2022-05-03T07:26:11.068390",
     "exception": false,
     "start_time": "2022-05-03T07:26:09.720902",
     "status": "completed"
    },
    "tags": []
   },
   "outputs": [
    {
     "data": {
      "text/plain": [
       "<AxesSubplot:xlabel='Column', ylabel='%'>"
      ]
     },
     "execution_count": 4,
     "metadata": {},
     "output_type": "execute_result"
    },
    {
     "data": {
      "image/png": "[encoded data removed]",
      "text/plain": [
       "<Figure size 432x288 with 1 Axes>"
      ]
     },
     "metadata": {
      "needs_background": "light"
     },
     "output_type": "display_data"
    }
   ],
   "source": [
    "columns_with_nan = df.columns[df.isnull().any()]\n",
    "column_name = []\n",
    "percent_nan = []\n",
    "\n",
    "for column in columns_with_nan:\n",
    "    column_name.append(column)\n",
    "    percent_nan.append(round(df[column].isnull().sum()*100/len(df), 2))\n",
    "\n",
    "table_nan = pd.DataFrame(column_name, columns=[\"Column\"])\n",
    "table_nan[\"%\"] = percent_nan\n",
    "\n",
    "table_nan\n",
    "\n",
    "import seaborn as sns\n",
    "sns.barplot(data=table_nan, x='Column', y=\"%\")"
   ]
  },
  {
   "cell_type": "markdown",
   "id": "6065d841",
   "metadata": {
    "papermill": {
     "duration": 0.033281,
     "end_time": "2022-05-03T07:26:11.151548",
     "exception": false,
     "start_time": "2022-05-03T07:26:11.118267",
     "status": "completed"
    },
    "tags": []
   },
   "source": [
    "### Segregating the dataset based on the datatype of the features into numeric and categorical datasets."
   ]
  },
  {
   "cell_type": "code",
   "execution_count": 5,
   "id": "f8405a78",
   "metadata": {
    "execution": {
     "iopub.execute_input": "2022-05-03T07:26:11.220377Z",
     "iopub.status.busy": "2022-05-03T07:26:11.220060Z",
     "iopub.status.idle": "2022-05-03T07:26:11.232310Z",
     "shell.execute_reply": "2022-05-03T07:26:11.231704Z"
    },
    "papermill": {
     "duration": 0.049688,
     "end_time": "2022-05-03T07:26:11.234812",
     "exception": false,
     "start_time": "2022-05-03T07:26:11.185124",
     "status": "completed"
    },
    "tags": []
   },
   "outputs": [
    {
     "name": "stdout",
     "output_type": "stream",
     "text": [
      "Shape of numeric data:  (8523, 5)\n",
      "Shape of categorical data:  (8523, 7)\n"
     ]
    }
   ],
   "source": [
    "numeric_df = df.select_dtypes(exclude='object')\n",
    "category_df = df.select_dtypes(include='object')\n",
    "\n",
    "print(f'Shape of numeric data: ', numeric_df.shape)\n",
    "print(f'Shape of categorical data: ', category_df.shape)"
   ]
  },
  {
   "cell_type": "code",
   "execution_count": 6,
   "id": "bb24154d",
   "metadata": {
    "execution": {
     "iopub.execute_input": "2022-05-03T07:26:11.307960Z",
     "iopub.status.busy": "2022-05-03T07:26:11.307186Z",
     "iopub.status.idle": "2022-05-03T07:26:11.319283Z",
     "shell.execute_reply": "2022-05-03T07:26:11.318384Z"
    },
    "papermill": {
     "duration": 0.051447,
     "end_time": "2022-05-03T07:26:11.321299",
     "exception": false,
     "start_time": "2022-05-03T07:26:11.269852",
     "status": "completed"
    },
    "tags": []
   },
   "outputs": [
    {
     "data": {
      "text/html": [
       "<div>\n",
       "<style scoped>\n",
       "    .dataframe tbody tr th:only-of-type {\n",
       "        vertical-align: middle;\n",
       "    }\n",
       "\n",
       "    .dataframe tbody tr th {\n",
       "        vertical-align: top;\n",
       "    }\n",
       "\n",
       "    .dataframe thead th {\n",
       "        text-align: right;\n",
       "    }\n",
       "</style>\n",
       "<table border=\"1\" class=\"dataframe\">\n",
       "  <thead>\n",
       "    <tr style=\"text-align: right;\">\n",
       "      <th></th>\n",
       "      <th>Item_Weight</th>\n",
       "      <th>Item_Visibility</th>\n",
       "      <th>Item_MRP</th>\n",
       "      <th>Outlet_Establishment_Year</th>\n",
       "      <th>Item_Outlet_Sales</th>\n",
       "    </tr>\n",
       "  </thead>\n",
       "  <tbody>\n",
       "    <tr>\n",
       "      <th>0</th>\n",
       "      <td>9.30</td>\n",
       "      <td>0.016047</td>\n",
       "      <td>249.8092</td>\n",
       "      <td>1999</td>\n",
       "      <td>3735.1380</td>\n",
       "    </tr>\n",
       "    <tr>\n",
       "      <th>1</th>\n",
       "      <td>5.92</td>\n",
       "      <td>0.019278</td>\n",
       "      <td>48.2692</td>\n",
       "      <td>2009</td>\n",
       "      <td>443.4228</td>\n",
       "    </tr>\n",
       "    <tr>\n",
       "      <th>2</th>\n",
       "      <td>17.50</td>\n",
       "      <td>0.016760</td>\n",
       "      <td>141.6180</td>\n",
       "      <td>1999</td>\n",
       "      <td>2097.2700</td>\n",
       "    </tr>\n",
       "    <tr>\n",
       "      <th>3</th>\n",
       "      <td>19.20</td>\n",
       "      <td>0.000000</td>\n",
       "      <td>182.0950</td>\n",
       "      <td>1998</td>\n",
       "      <td>732.3800</td>\n",
       "    </tr>\n",
       "    <tr>\n",
       "      <th>4</th>\n",
       "      <td>8.93</td>\n",
       "      <td>0.000000</td>\n",
       "      <td>53.8614</td>\n",
       "      <td>1987</td>\n",
       "      <td>994.7052</td>\n",
       "    </tr>\n",
       "  </tbody>\n",
       "</table>\n",
       "</div>"
      ],
      "text/plain": [
       "   Item_Weight  Item_Visibility  Item_MRP  Outlet_Establishment_Year  \\\n",
       "0         9.30         0.016047  249.8092                       1999   \n",
       "1         5.92         0.019278   48.2692                       2009   \n",
       "2        17.50         0.016760  141.6180                       1999   \n",
       "3        19.20         0.000000  182.0950                       1998   \n",
       "4         8.93         0.000000   53.8614                       1987   \n",
       "\n",
       "   Item_Outlet_Sales  \n",
       "0          3735.1380  \n",
       "1           443.4228  \n",
       "2          2097.2700  \n",
       "3           732.3800  \n",
       "4           994.7052  "
      ]
     },
     "execution_count": 6,
     "metadata": {},
     "output_type": "execute_result"
    }
   ],
   "source": [
    "numeric_df.head()"
   ]
  },
  {
   "cell_type": "code",
   "execution_count": 7,
   "id": "9618c2d1",
   "metadata": {
    "execution": {
     "iopub.execute_input": "2022-05-03T07:26:11.392999Z",
     "iopub.status.busy": "2022-05-03T07:26:11.391834Z",
     "iopub.status.idle": "2022-05-03T07:26:11.403000Z",
     "shell.execute_reply": "2022-05-03T07:26:11.401882Z"
    },
    "papermill": {
     "duration": 0.048829,
     "end_time": "2022-05-03T07:26:11.404813",
     "exception": false,
     "start_time": "2022-05-03T07:26:11.355984",
     "status": "completed"
    },
    "tags": []
   },
   "outputs": [
    {
     "name": "stdout",
     "output_type": "stream",
     "text": [
      "Number of unique values in Item_Weight =  415\n",
      "Number of unique values in Item_Visibility =  7880\n",
      "Number of unique values in Item_MRP =  5938\n",
      "Number of unique values in Outlet_Establishment_Year =  9\n",
      "Number of unique values in Item_Outlet_Sales =  3493\n"
     ]
    }
   ],
   "source": [
    "for column in numeric_df.columns:\n",
    "    print(f\"Number of unique values in {column} = \", df[column].nunique())"
   ]
  },
  {
   "cell_type": "markdown",
   "id": "5ec47db3",
   "metadata": {
    "papermill": {
     "duration": 0.03421,
     "end_time": "2022-05-03T07:26:11.473477",
     "exception": false,
     "start_time": "2022-05-03T07:26:11.439267",
     "status": "completed"
    },
    "tags": []
   },
   "source": [
    "### Checking for Quasi-constant Variables"
   ]
  },
  {
   "cell_type": "markdown",
   "id": "63a3ad07",
   "metadata": {
    "papermill": {
     "duration": 0.034007,
     "end_time": "2022-05-03T07:26:11.542227",
     "exception": false,
     "start_time": "2022-05-03T07:26:11.508220",
     "status": "completed"
    },
    "tags": []
   },
   "source": [
    "- Quasi-constant features are the features that are almost constant.\n",
    "- These features have the same values for a very large subset of the outputs.\n",
    "- Such features are not very useful for making predictions."
   ]
  },
  {
   "cell_type": "code",
   "execution_count": 8,
   "id": "3d5c1c86",
   "metadata": {
    "execution": {
     "iopub.execute_input": "2022-05-03T07:26:11.613378Z",
     "iopub.status.busy": "2022-05-03T07:26:11.612765Z",
     "iopub.status.idle": "2022-05-03T07:26:11.959709Z",
     "shell.execute_reply": "2022-05-03T07:26:11.958592Z"
    },
    "papermill": {
     "duration": 0.385475,
     "end_time": "2022-05-03T07:26:11.962083",
     "exception": false,
     "start_time": "2022-05-03T07:26:11.576608",
     "status": "completed"
    },
    "tags": []
   },
   "outputs": [
    {
     "name": "stdout",
     "output_type": "stream",
     "text": [
      "Number of columns to be retained:  3\n",
      "Number of quasi-constant features:  1\n",
      "Quasi-constant feature to be dropped:  ['Item_Visibility']\n"
     ]
    }
   ],
   "source": [
    "from sklearn.feature_selection import VarianceThreshold\n",
    "constant_filter = VarianceThreshold(threshold=0.5)\n",
    "constant_filter.fit(numeric_df.iloc[:, :-1])\n",
    "print(\"Number of columns to be retained: \", sum(constant_filter.get_support()))\n",
    "print(\"Number of quasi-constant features: \", len(numeric_df.iloc[:, :-1].columns) - sum(constant_filter.get_support()))\n",
    "\n",
    "qconstant_list = [col for col in numeric_df.iloc[:, :-1].columns if col not in numeric_df.iloc[:, :-1].columns[constant_filter.get_support()]]\n",
    "print(\"Quasi-constant feature to be dropped: \", qconstant_list)"
   ]
  },
  {
   "cell_type": "code",
   "execution_count": 9,
   "id": "bc32f3ad",
   "metadata": {
    "execution": {
     "iopub.execute_input": "2022-05-03T07:26:12.034835Z",
     "iopub.status.busy": "2022-05-03T07:26:12.034223Z",
     "iopub.status.idle": "2022-05-03T07:26:12.047057Z",
     "shell.execute_reply": "2022-05-03T07:26:12.045794Z"
    },
    "papermill": {
     "duration": 0.051146,
     "end_time": "2022-05-03T07:26:12.049047",
     "exception": false,
     "start_time": "2022-05-03T07:26:11.997901",
     "status": "completed"
    },
    "tags": []
   },
   "outputs": [
    {
     "data": {
      "text/plain": [
       "count    8523.000000\n",
       "mean        0.066132\n",
       "std         0.051598\n",
       "min         0.000000\n",
       "25%         0.026989\n",
       "50%         0.053931\n",
       "75%         0.094585\n",
       "max         0.328391\n",
       "Name: Item_Visibility, dtype: float64"
      ]
     },
     "execution_count": 9,
     "metadata": {},
     "output_type": "execute_result"
    }
   ],
   "source": [
    "df['Item_Visibility'].describe()"
   ]
  },
  {
   "cell_type": "markdown",
   "id": "843a48ea",
   "metadata": {
    "papermill": {
     "duration": 0.03511,
     "end_time": "2022-05-03T07:26:12.120556",
     "exception": false,
     "start_time": "2022-05-03T07:26:12.085446",
     "status": "completed"
    },
    "tags": []
   },
   "source": [
    "Though, 'Item_Visibility' feature is found to be quasi constant in nature, the values of 'Item_Visibility' ranges between 0 and 0.32. \n",
    "Also, the number of unique values is 7880. Therefore, let us not drop this feature."
   ]
  },
  {
   "cell_type": "markdown",
   "id": "f8046b69",
   "metadata": {
    "papermill": {
     "duration": 0.035136,
     "end_time": "2022-05-03T07:26:12.191323",
     "exception": false,
     "start_time": "2022-05-03T07:26:12.156187",
     "status": "completed"
    },
    "tags": []
   },
   "source": [
    "- However, considering the fact as the minimum being 0, there is no meaning in analysing an item that has zero visibility. Maybe the items marked 0 were of unknown visibility. Let us check the count of zero values and if necessary treat them by replacing with mean."
   ]
  },
  {
   "cell_type": "code",
   "execution_count": 10,
   "id": "f24b9008",
   "metadata": {
    "execution": {
     "iopub.execute_input": "2022-05-03T07:26:12.263989Z",
     "iopub.status.busy": "2022-05-03T07:26:12.263243Z",
     "iopub.status.idle": "2022-05-03T07:26:12.270552Z",
     "shell.execute_reply": "2022-05-03T07:26:12.269276Z"
    },
    "papermill": {
     "duration": 0.046187,
     "end_time": "2022-05-03T07:26:12.272588",
     "exception": false,
     "start_time": "2022-05-03T07:26:12.226401",
     "status": "completed"
    },
    "tags": []
   },
   "outputs": [
    {
     "name": "stdout",
     "output_type": "stream",
     "text": [
      "Number of zero values:  (526, 5)\n"
     ]
    }
   ],
   "source": [
    "zero_rows = numeric_df[numeric_df['Item_Visibility']==0]\n",
    "print(\"Number of zero values: \", zero_rows.shape)"
   ]
  },
  {
   "cell_type": "code",
   "execution_count": 11,
   "id": "e108c8a3",
   "metadata": {
    "execution": {
     "iopub.execute_input": "2022-05-03T07:26:12.350350Z",
     "iopub.status.busy": "2022-05-03T07:26:12.349713Z",
     "iopub.status.idle": "2022-05-03T07:26:12.361901Z",
     "shell.execute_reply": "2022-05-03T07:26:12.360798Z"
    },
    "papermill": {
     "duration": 0.055803,
     "end_time": "2022-05-03T07:26:12.363975",
     "exception": false,
     "start_time": "2022-05-03T07:26:12.308172",
     "status": "completed"
    },
    "tags": []
   },
   "outputs": [
    {
     "name": "stderr",
     "output_type": "stream",
     "text": [
      "/opt/conda/lib/python3.7/site-packages/ipykernel_launcher.py:1: SettingWithCopyWarning: \n",
      "A value is trying to be set on a copy of a slice from a DataFrame.\n",
      "Try using .loc[row_indexer,col_indexer] = value instead\n",
      "\n",
      "See the caveats in the documentation: https://pandas.pydata.org/pandas-docs/stable/user_guide/indexing.html#returning-a-view-versus-a-copy\n",
      "  \"\"\"Entry point for launching an IPython kernel.\n"
     ]
    },
    {
     "data": {
      "text/plain": [
       "count    8523.000000\n",
       "mean        0.070213\n",
       "std         0.048742\n",
       "min         0.003575\n",
       "25%         0.033085\n",
       "50%         0.062517\n",
       "75%         0.094585\n",
       "max         0.328391\n",
       "Name: Item_Visibility, dtype: float64"
      ]
     },
     "execution_count": 11,
     "metadata": {},
     "output_type": "execute_result"
    }
   ],
   "source": [
    "numeric_df['Item_Visibility'] = numeric_df['Item_Visibility'].replace(0, numeric_df['Item_Visibility'].mean())\n",
    "\n",
    "numeric_df.Item_Visibility.describe()"
   ]
  },
  {
   "cell_type": "code",
   "execution_count": 12,
   "id": "3eee365c",
   "metadata": {
    "execution": {
     "iopub.execute_input": "2022-05-03T07:26:12.437931Z",
     "iopub.status.busy": "2022-05-03T07:26:12.437327Z",
     "iopub.status.idle": "2022-05-03T07:26:12.442637Z",
     "shell.execute_reply": "2022-05-03T07:26:12.441984Z"
    },
    "papermill": {
     "duration": 0.044458,
     "end_time": "2022-05-03T07:26:12.444513",
     "exception": false,
     "start_time": "2022-05-03T07:26:12.400055",
     "status": "completed"
    },
    "tags": []
   },
   "outputs": [
    {
     "data": {
      "text/plain": [
       "Index(['Item_Weight', 'Item_Visibility', 'Item_MRP',\n",
       "       'Outlet_Establishment_Year', 'Item_Outlet_Sales'],\n",
       "      dtype='object')"
      ]
     },
     "execution_count": 12,
     "metadata": {},
     "output_type": "execute_result"
    }
   ],
   "source": [
    "numeric_df.columns"
   ]
  },
  {
   "cell_type": "code",
   "execution_count": 13,
   "id": "22c9f309",
   "metadata": {
    "execution": {
     "iopub.execute_input": "2022-05-03T07:26:12.522242Z",
     "iopub.status.busy": "2022-05-03T07:26:12.521860Z",
     "iopub.status.idle": "2022-05-03T07:26:12.549955Z",
     "shell.execute_reply": "2022-05-03T07:26:12.549268Z"
    },
    "papermill": {
     "duration": 0.070089,
     "end_time": "2022-05-03T07:26:12.552070",
     "exception": false,
     "start_time": "2022-05-03T07:26:12.481981",
     "status": "completed"
    },
    "tags": []
   },
   "outputs": [
    {
     "data": {
      "text/html": [
       "<div>\n",
       "<style scoped>\n",
       "    .dataframe tbody tr th:only-of-type {\n",
       "        vertical-align: middle;\n",
       "    }\n",
       "\n",
       "    .dataframe tbody tr th {\n",
       "        vertical-align: top;\n",
       "    }\n",
       "\n",
       "    .dataframe thead th {\n",
       "        text-align: right;\n",
       "    }\n",
       "</style>\n",
       "<table border=\"1\" class=\"dataframe\">\n",
       "  <thead>\n",
       "    <tr style=\"text-align: right;\">\n",
       "      <th></th>\n",
       "      <th>Item_Weight</th>\n",
       "      <th>Item_Visibility</th>\n",
       "      <th>Item_MRP</th>\n",
       "      <th>Outlet_Establishment_Year</th>\n",
       "      <th>Item_Outlet_Sales</th>\n",
       "    </tr>\n",
       "  </thead>\n",
       "  <tbody>\n",
       "    <tr>\n",
       "      <th>count</th>\n",
       "      <td>7060.000000</td>\n",
       "      <td>8523.000000</td>\n",
       "      <td>8523.000000</td>\n",
       "      <td>8523.000000</td>\n",
       "      <td>8523.000000</td>\n",
       "    </tr>\n",
       "    <tr>\n",
       "      <th>mean</th>\n",
       "      <td>12.857645</td>\n",
       "      <td>0.070213</td>\n",
       "      <td>140.992782</td>\n",
       "      <td>1997.831867</td>\n",
       "      <td>2181.288914</td>\n",
       "    </tr>\n",
       "    <tr>\n",
       "      <th>std</th>\n",
       "      <td>4.643456</td>\n",
       "      <td>0.048742</td>\n",
       "      <td>62.275067</td>\n",
       "      <td>8.371760</td>\n",
       "      <td>1706.499616</td>\n",
       "    </tr>\n",
       "    <tr>\n",
       "      <th>min</th>\n",
       "      <td>4.555000</td>\n",
       "      <td>0.003575</td>\n",
       "      <td>31.290000</td>\n",
       "      <td>1985.000000</td>\n",
       "      <td>33.290000</td>\n",
       "    </tr>\n",
       "    <tr>\n",
       "      <th>25%</th>\n",
       "      <td>8.773750</td>\n",
       "      <td>0.033085</td>\n",
       "      <td>93.826500</td>\n",
       "      <td>1987.000000</td>\n",
       "      <td>834.247400</td>\n",
       "    </tr>\n",
       "    <tr>\n",
       "      <th>50%</th>\n",
       "      <td>12.600000</td>\n",
       "      <td>0.062517</td>\n",
       "      <td>143.012800</td>\n",
       "      <td>1999.000000</td>\n",
       "      <td>1794.331000</td>\n",
       "    </tr>\n",
       "    <tr>\n",
       "      <th>75%</th>\n",
       "      <td>16.850000</td>\n",
       "      <td>0.094585</td>\n",
       "      <td>185.643700</td>\n",
       "      <td>2004.000000</td>\n",
       "      <td>3101.296400</td>\n",
       "    </tr>\n",
       "    <tr>\n",
       "      <th>max</th>\n",
       "      <td>21.350000</td>\n",
       "      <td>0.328391</td>\n",
       "      <td>266.888400</td>\n",
       "      <td>2009.000000</td>\n",
       "      <td>13086.964800</td>\n",
       "    </tr>\n",
       "  </tbody>\n",
       "</table>\n",
       "</div>"
      ],
      "text/plain": [
       "       Item_Weight  Item_Visibility     Item_MRP  Outlet_Establishment_Year  \\\n",
       "count  7060.000000      8523.000000  8523.000000                8523.000000   \n",
       "mean     12.857645         0.070213   140.992782                1997.831867   \n",
       "std       4.643456         0.048742    62.275067                   8.371760   \n",
       "min       4.555000         0.003575    31.290000                1985.000000   \n",
       "25%       8.773750         0.033085    93.826500                1987.000000   \n",
       "50%      12.600000         0.062517   143.012800                1999.000000   \n",
       "75%      16.850000         0.094585   185.643700                2004.000000   \n",
       "max      21.350000         0.328391   266.888400                2009.000000   \n",
       "\n",
       "       Item_Outlet_Sales  \n",
       "count        8523.000000  \n",
       "mean         2181.288914  \n",
       "std          1706.499616  \n",
       "min            33.290000  \n",
       "25%           834.247400  \n",
       "50%          1794.331000  \n",
       "75%          3101.296400  \n",
       "max         13086.964800  "
      ]
     },
     "execution_count": 13,
     "metadata": {},
     "output_type": "execute_result"
    }
   ],
   "source": [
    "numeric_df.describe()"
   ]
  },
  {
   "cell_type": "code",
   "execution_count": 14,
   "id": "9dddf2cd",
   "metadata": {
    "execution": {
     "iopub.execute_input": "2022-05-03T07:26:12.628638Z",
     "iopub.status.busy": "2022-05-03T07:26:12.627563Z",
     "iopub.status.idle": "2022-05-03T07:26:14.344429Z",
     "shell.execute_reply": "2022-05-03T07:26:14.343588Z"
    },
    "papermill": {
     "duration": 1.75768,
     "end_time": "2022-05-03T07:26:14.346855",
     "exception": false,
     "start_time": "2022-05-03T07:26:12.589175",
     "status": "completed"
    },
    "tags": []
   },
   "outputs": [
    {
     "data": {
      "image/png": "[encoded data removed]",
      "text/plain": [
       "<Figure size 1152x720 with 6 Axes>"
      ]
     },
     "metadata": {
      "needs_background": "light"
     },
     "output_type": "display_data"
    }
   ],
   "source": [
    "from math import sqrt\n",
    "fig = numeric_df.hist(bins=round(sqrt(len(numeric_df))), \n",
    "                      color=\"yellow\", \n",
    "                      edgecolor=\"orange\", \n",
    "                      figsize=(16, 10), \n",
    "                      grid=True)"
   ]
  },
  {
   "cell_type": "code",
   "execution_count": 15,
   "id": "777ac30f",
   "metadata": {
    "execution": {
     "iopub.execute_input": "2022-05-03T07:26:14.426775Z",
     "iopub.status.busy": "2022-05-03T07:26:14.425997Z",
     "iopub.status.idle": "2022-05-03T07:26:14.435754Z",
     "shell.execute_reply": "2022-05-03T07:26:14.434912Z"
    },
    "papermill": {
     "duration": 0.052372,
     "end_time": "2022-05-03T07:26:14.437782",
     "exception": false,
     "start_time": "2022-05-03T07:26:14.385410",
     "status": "completed"
    },
    "tags": []
   },
   "outputs": [
    {
     "data": {
      "text/plain": [
       "False    4\n",
       "True     1\n",
       "dtype: int64"
      ]
     },
     "execution_count": 15,
     "metadata": {},
     "output_type": "execute_result"
    }
   ],
   "source": [
    "numeric_df.isna().any().value_counts()"
   ]
  },
  {
   "cell_type": "code",
   "execution_count": 16,
   "id": "c12e294e",
   "metadata": {
    "execution": {
     "iopub.execute_input": "2022-05-03T07:26:14.517349Z",
     "iopub.status.busy": "2022-05-03T07:26:14.516613Z",
     "iopub.status.idle": "2022-05-03T07:26:14.527118Z",
     "shell.execute_reply": "2022-05-03T07:26:14.526376Z"
    },
    "papermill": {
     "duration": 0.052335,
     "end_time": "2022-05-03T07:26:14.528845",
     "exception": false,
     "start_time": "2022-05-03T07:26:14.476510",
     "status": "completed"
    },
    "tags": []
   },
   "outputs": [
    {
     "data": {
      "text/plain": [
       "Item_Weight                  17.17\n",
       "Item_Visibility               0.00\n",
       "Item_MRP                      0.00\n",
       "Outlet_Establishment_Year     0.00\n",
       "Item_Outlet_Sales             0.00\n",
       "dtype: float64"
      ]
     },
     "execution_count": 16,
     "metadata": {},
     "output_type": "execute_result"
    }
   ],
   "source": [
    "round(numeric_df.isnull().sum().sort_values(ascending=False)*100/len(numeric_df), 2)"
   ]
  },
  {
   "cell_type": "code",
   "execution_count": 17,
   "id": "4345e837",
   "metadata": {
    "execution": {
     "iopub.execute_input": "2022-05-03T07:26:14.609118Z",
     "iopub.status.busy": "2022-05-03T07:26:14.608315Z",
     "iopub.status.idle": "2022-05-03T07:26:14.620948Z",
     "shell.execute_reply": "2022-05-03T07:26:14.619763Z"
    },
    "papermill": {
     "duration": 0.055134,
     "end_time": "2022-05-03T07:26:14.622933",
     "exception": false,
     "start_time": "2022-05-03T07:26:14.567799",
     "status": "completed"
    },
    "tags": []
   },
   "outputs": [
    {
     "name": "stderr",
     "output_type": "stream",
     "text": [
      "/opt/conda/lib/python3.7/site-packages/ipykernel_launcher.py:1: SettingWithCopyWarning: \n",
      "A value is trying to be set on a copy of a slice from a DataFrame.\n",
      "Try using .loc[row_indexer,col_indexer] = value instead\n",
      "\n",
      "See the caveats in the documentation: https://pandas.pydata.org/pandas-docs/stable/user_guide/indexing.html#returning-a-view-versus-a-copy\n",
      "  \"\"\"Entry point for launching an IPython kernel.\n"
     ]
    },
    {
     "data": {
      "text/plain": [
       "False    5\n",
       "dtype: int64"
      ]
     },
     "execution_count": 17,
     "metadata": {},
     "output_type": "execute_result"
    }
   ],
   "source": [
    "numeric_df['Item_Weight'] = numeric_df['Item_Weight'].fillna(numeric_df['Item_Weight'].mean())\n",
    "numeric_df.isna().any().value_counts()"
   ]
  },
  {
   "cell_type": "code",
   "execution_count": 18,
   "id": "62b663fd",
   "metadata": {
    "execution": {
     "iopub.execute_input": "2022-05-03T07:26:14.703794Z",
     "iopub.status.busy": "2022-05-03T07:26:14.703383Z",
     "iopub.status.idle": "2022-05-03T07:26:14.718657Z",
     "shell.execute_reply": "2022-05-03T07:26:14.717894Z"
    },
    "papermill": {
     "duration": 0.05855,
     "end_time": "2022-05-03T07:26:14.720877",
     "exception": false,
     "start_time": "2022-05-03T07:26:14.662327",
     "status": "completed"
    },
    "tags": []
   },
   "outputs": [
    {
     "name": "stderr",
     "output_type": "stream",
     "text": [
      "/opt/conda/lib/python3.7/site-packages/ipykernel_launcher.py:1: SettingWithCopyWarning: \n",
      "A value is trying to be set on a copy of a slice from a DataFrame.\n",
      "Try using .loc[row_indexer,col_indexer] = value instead\n",
      "\n",
      "See the caveats in the documentation: https://pandas.pydata.org/pandas-docs/stable/user_guide/indexing.html#returning-a-view-versus-a-copy\n",
      "  \"\"\"Entry point for launching an IPython kernel.\n"
     ]
    },
    {
     "data": {
      "text/html": [
       "<div>\n",
       "<style scoped>\n",
       "    .dataframe tbody tr th:only-of-type {\n",
       "        vertical-align: middle;\n",
       "    }\n",
       "\n",
       "    .dataframe tbody tr th {\n",
       "        vertical-align: top;\n",
       "    }\n",
       "\n",
       "    .dataframe thead th {\n",
       "        text-align: right;\n",
       "    }\n",
       "</style>\n",
       "<table border=\"1\" class=\"dataframe\">\n",
       "  <thead>\n",
       "    <tr style=\"text-align: right;\">\n",
       "      <th></th>\n",
       "      <th>Item_Weight</th>\n",
       "      <th>Item_Visibility</th>\n",
       "      <th>Item_MRP</th>\n",
       "      <th>Outlet_Establishment_Year</th>\n",
       "      <th>Item_Outlet_Sales</th>\n",
       "      <th>Outlet_Age</th>\n",
       "    </tr>\n",
       "  </thead>\n",
       "  <tbody>\n",
       "    <tr>\n",
       "      <th>0</th>\n",
       "      <td>9.30</td>\n",
       "      <td>0.016047</td>\n",
       "      <td>249.8092</td>\n",
       "      <td>1999</td>\n",
       "      <td>3735.1380</td>\n",
       "      <td>23</td>\n",
       "    </tr>\n",
       "    <tr>\n",
       "      <th>1</th>\n",
       "      <td>5.92</td>\n",
       "      <td>0.019278</td>\n",
       "      <td>48.2692</td>\n",
       "      <td>2009</td>\n",
       "      <td>443.4228</td>\n",
       "      <td>13</td>\n",
       "    </tr>\n",
       "    <tr>\n",
       "      <th>2</th>\n",
       "      <td>17.50</td>\n",
       "      <td>0.016760</td>\n",
       "      <td>141.6180</td>\n",
       "      <td>1999</td>\n",
       "      <td>2097.2700</td>\n",
       "      <td>23</td>\n",
       "    </tr>\n",
       "    <tr>\n",
       "      <th>3</th>\n",
       "      <td>19.20</td>\n",
       "      <td>0.066132</td>\n",
       "      <td>182.0950</td>\n",
       "      <td>1998</td>\n",
       "      <td>732.3800</td>\n",
       "      <td>24</td>\n",
       "    </tr>\n",
       "    <tr>\n",
       "      <th>4</th>\n",
       "      <td>8.93</td>\n",
       "      <td>0.066132</td>\n",
       "      <td>53.8614</td>\n",
       "      <td>1987</td>\n",
       "      <td>994.7052</td>\n",
       "      <td>35</td>\n",
       "    </tr>\n",
       "  </tbody>\n",
       "</table>\n",
       "</div>"
      ],
      "text/plain": [
       "   Item_Weight  Item_Visibility  Item_MRP  Outlet_Establishment_Year  \\\n",
       "0         9.30         0.016047  249.8092                       1999   \n",
       "1         5.92         0.019278   48.2692                       2009   \n",
       "2        17.50         0.016760  141.6180                       1999   \n",
       "3        19.20         0.066132  182.0950                       1998   \n",
       "4         8.93         0.066132   53.8614                       1987   \n",
       "\n",
       "   Item_Outlet_Sales  Outlet_Age  \n",
       "0          3735.1380          23  \n",
       "1           443.4228          13  \n",
       "2          2097.2700          23  \n",
       "3           732.3800          24  \n",
       "4           994.7052          35  "
      ]
     },
     "execution_count": 18,
     "metadata": {},
     "output_type": "execute_result"
    }
   ],
   "source": [
    "numeric_df['Outlet_Age'] = 2022 - numeric_df['Outlet_Establishment_Year']\n",
    "\n",
    "numeric_df.head()"
   ]
  },
  {
   "cell_type": "code",
   "execution_count": 19,
   "id": "3d450e04",
   "metadata": {
    "execution": {
     "iopub.execute_input": "2022-05-03T07:26:14.803986Z",
     "iopub.status.busy": "2022-05-03T07:26:14.803243Z",
     "iopub.status.idle": "2022-05-03T07:26:14.809792Z",
     "shell.execute_reply": "2022-05-03T07:26:14.809038Z"
    },
    "papermill": {
     "duration": 0.049895,
     "end_time": "2022-05-03T07:26:14.811607",
     "exception": false,
     "start_time": "2022-05-03T07:26:14.761712",
     "status": "completed"
    },
    "tags": []
   },
   "outputs": [
    {
     "data": {
      "text/plain": [
       "Index(['Item_Identifier', 'Item_Fat_Content', 'Item_Type', 'Outlet_Identifier',\n",
       "       'Outlet_Size', 'Outlet_Location_Type', 'Outlet_Type'],\n",
       "      dtype='object')"
      ]
     },
     "execution_count": 19,
     "metadata": {},
     "output_type": "execute_result"
    }
   ],
   "source": [
    "category_df.columns"
   ]
  },
  {
   "cell_type": "code",
   "execution_count": 20,
   "id": "282e43d6",
   "metadata": {
    "execution": {
     "iopub.execute_input": "2022-05-03T07:26:14.894835Z",
     "iopub.status.busy": "2022-05-03T07:26:14.894502Z",
     "iopub.status.idle": "2022-05-03T07:26:14.903949Z",
     "shell.execute_reply": "2022-05-03T07:26:14.903123Z"
    },
    "papermill": {
     "duration": 0.053266,
     "end_time": "2022-05-03T07:26:14.905969",
     "exception": false,
     "start_time": "2022-05-03T07:26:14.852703",
     "status": "completed"
    },
    "tags": []
   },
   "outputs": [
    {
     "data": {
      "text/plain": [
       "Low Fat    5089\n",
       "Regular    2889\n",
       "LF          316\n",
       "reg         117\n",
       "low fat     112\n",
       "Name: Item_Fat_Content, dtype: int64"
      ]
     },
     "execution_count": 20,
     "metadata": {},
     "output_type": "execute_result"
    }
   ],
   "source": [
    "category_df[\"Item_Fat_Content\"].value_counts()"
   ]
  },
  {
   "cell_type": "code",
   "execution_count": 21,
   "id": "b66c5400",
   "metadata": {
    "execution": {
     "iopub.execute_input": "2022-05-03T07:26:14.990303Z",
     "iopub.status.busy": "2022-05-03T07:26:14.989990Z",
     "iopub.status.idle": "2022-05-03T07:26:15.168188Z",
     "shell.execute_reply": "2022-05-03T07:26:15.167398Z"
    },
    "papermill": {
     "duration": 0.223,
     "end_time": "2022-05-03T07:26:15.170255",
     "exception": false,
     "start_time": "2022-05-03T07:26:14.947255",
     "status": "completed"
    },
    "tags": []
   },
   "outputs": [
    {
     "name": "stderr",
     "output_type": "stream",
     "text": [
      "/opt/conda/lib/python3.7/site-packages/ipykernel_launcher.py:1: SettingWithCopyWarning: \n",
      "A value is trying to be set on a copy of a slice from a DataFrame.\n",
      "Try using .loc[row_indexer,col_indexer] = value instead\n",
      "\n",
      "See the caveats in the documentation: https://pandas.pydata.org/pandas-docs/stable/user_guide/indexing.html#returning-a-view-versus-a-copy\n",
      "  \"\"\"Entry point for launching an IPython kernel.\n",
      "/opt/conda/lib/python3.7/site-packages/ipykernel_launcher.py:2: SettingWithCopyWarning: \n",
      "A value is trying to be set on a copy of a slice from a DataFrame.\n",
      "Try using .loc[row_indexer,col_indexer] = value instead\n",
      "\n",
      "See the caveats in the documentation: https://pandas.pydata.org/pandas-docs/stable/user_guide/indexing.html#returning-a-view-versus-a-copy\n",
      "  \n"
     ]
    },
    {
     "data": {
      "text/plain": [
       "<AxesSubplot:xlabel='Item_Fat_Content', ylabel='count'>"
      ]
     },
     "execution_count": 21,
     "metadata": {},
     "output_type": "execute_result"
    },
    {
     "data": {
      "image/png": "[encoded data removed]",
      "text/plain": [
       "<Figure size 432x288 with 1 Axes>"
      ]
     },
     "metadata": {
      "needs_background": "light"
     },
     "output_type": "display_data"
    }
   ],
   "source": [
    "category_df[\"Item_Fat_Content\"] = category_df[\"Item_Fat_Content\"].replace(['LF', 'low fat'], 'Low Fat')\n",
    "category_df[\"Item_Fat_Content\"] = category_df[\"Item_Fat_Content\"].replace(['reg'], 'Regular')\n",
    "\n",
    "import seaborn as sns\n",
    "sns.countplot(data=category_df, x=\"Item_Fat_Content\", color='orange', edgecolor='red')"
   ]
  },
  {
   "cell_type": "code",
   "execution_count": 22,
   "id": "652673c6",
   "metadata": {
    "execution": {
     "iopub.execute_input": "2022-05-03T07:26:15.257804Z",
     "iopub.status.busy": "2022-05-03T07:26:15.256928Z",
     "iopub.status.idle": "2022-05-03T07:26:15.264730Z",
     "shell.execute_reply": "2022-05-03T07:26:15.264169Z"
    },
    "papermill": {
     "duration": 0.05306,
     "end_time": "2022-05-03T07:26:15.266531",
     "exception": false,
     "start_time": "2022-05-03T07:26:15.213471",
     "status": "completed"
    },
    "tags": []
   },
   "outputs": [
    {
     "data": {
      "text/plain": [
       "Fruits and Vegetables    1232\n",
       "Snack Foods              1200\n",
       "Household                 910\n",
       "Frozen Foods              856\n",
       "Dairy                     682\n",
       "Canned                    649\n",
       "Baking Goods              648\n",
       "Health and Hygiene        520\n",
       "Soft Drinks               445\n",
       "Meat                      425\n",
       "Breads                    251\n",
       "Hard Drinks               214\n",
       "Others                    169\n",
       "Starchy Foods             148\n",
       "Breakfast                 110\n",
       "Seafood                    64\n",
       "Name: Item_Type, dtype: int64"
      ]
     },
     "execution_count": 22,
     "metadata": {},
     "output_type": "execute_result"
    }
   ],
   "source": [
    "category_df['Item_Type'].value_counts()"
   ]
  },
  {
   "cell_type": "code",
   "execution_count": 23,
   "id": "20189f90",
   "metadata": {
    "execution": {
     "iopub.execute_input": "2022-05-03T07:26:15.353379Z",
     "iopub.status.busy": "2022-05-03T07:26:15.353063Z",
     "iopub.status.idle": "2022-05-03T07:26:15.682649Z",
     "shell.execute_reply": "2022-05-03T07:26:15.681539Z"
    },
    "papermill": {
     "duration": 0.376075,
     "end_time": "2022-05-03T07:26:15.684945",
     "exception": false,
     "start_time": "2022-05-03T07:26:15.308870",
     "status": "completed"
    },
    "tags": []
   },
   "outputs": [
    {
     "data": {
      "text/plain": [
       "<AxesSubplot:xlabel='count', ylabel='Item_Type'>"
      ]
     },
     "execution_count": 23,
     "metadata": {},
     "output_type": "execute_result"
    },
    {
     "data": {
      "image/png": "[encoded data removed]",
      "text/plain": [
       "<Figure size 720x504 with 1 Axes>"
      ]
     },
     "metadata": {},
     "output_type": "display_data"
    }
   ],
   "source": [
    "sns.set(rc={\"figure.figsize\": (10, 7)})\n",
    "sns.countplot(data=category_df, y='Item_Type', orient='h')"
   ]
  },
  {
   "cell_type": "code",
   "execution_count": 24,
   "id": "dd156086",
   "metadata": {
    "execution": {
     "iopub.execute_input": "2022-05-03T07:26:15.775150Z",
     "iopub.status.busy": "2022-05-03T07:26:15.774795Z",
     "iopub.status.idle": "2022-05-03T07:26:15.782289Z",
     "shell.execute_reply": "2022-05-03T07:26:15.781687Z"
    },
    "papermill": {
     "duration": 0.055275,
     "end_time": "2022-05-03T07:26:15.784385",
     "exception": false,
     "start_time": "2022-05-03T07:26:15.729110",
     "status": "completed"
    },
    "tags": []
   },
   "outputs": [
    {
     "data": {
      "text/plain": [
       "Tier 3    3350\n",
       "Tier 2    2785\n",
       "Tier 1    2388\n",
       "Name: Outlet_Location_Type, dtype: int64"
      ]
     },
     "execution_count": 24,
     "metadata": {},
     "output_type": "execute_result"
    }
   ],
   "source": [
    "category_df['Outlet_Location_Type'].value_counts()"
   ]
  },
  {
   "cell_type": "code",
   "execution_count": 25,
   "id": "a846a118",
   "metadata": {
    "execution": {
     "iopub.execute_input": "2022-05-03T07:26:15.878434Z",
     "iopub.status.busy": "2022-05-03T07:26:15.877652Z",
     "iopub.status.idle": "2022-05-03T07:26:16.072660Z",
     "shell.execute_reply": "2022-05-03T07:26:16.071596Z"
    },
    "papermill": {
     "duration": 0.244916,
     "end_time": "2022-05-03T07:26:16.075183",
     "exception": false,
     "start_time": "2022-05-03T07:26:15.830267",
     "status": "completed"
    },
    "tags": []
   },
   "outputs": [
    {
     "data": {
      "text/plain": [
       "<AxesSubplot:xlabel='count', ylabel='Outlet_Location_Type'>"
      ]
     },
     "execution_count": 25,
     "metadata": {},
     "output_type": "execute_result"
    },
    {
     "data": {
      "image/png": "[encoded data removed]",
      "text/plain": [
       "<Figure size 720x504 with 1 Axes>"
      ]
     },
     "metadata": {},
     "output_type": "display_data"
    }
   ],
   "source": [
    "sns.countplot(data=category_df, y='Outlet_Location_Type')"
   ]
  },
  {
   "cell_type": "code",
   "execution_count": 26,
   "id": "e4c38336",
   "metadata": {
    "execution": {
     "iopub.execute_input": "2022-05-03T07:26:16.169884Z",
     "iopub.status.busy": "2022-05-03T07:26:16.168926Z",
     "iopub.status.idle": "2022-05-03T07:26:16.177272Z",
     "shell.execute_reply": "2022-05-03T07:26:16.176473Z"
    },
    "papermill": {
     "duration": 0.057654,
     "end_time": "2022-05-03T07:26:16.179262",
     "exception": false,
     "start_time": "2022-05-03T07:26:16.121608",
     "status": "completed"
    },
    "tags": []
   },
   "outputs": [
    {
     "data": {
      "text/plain": [
       "Supermarket Type1    5577\n",
       "Grocery Store        1083\n",
       "Supermarket Type3     935\n",
       "Supermarket Type2     928\n",
       "Name: Outlet_Type, dtype: int64"
      ]
     },
     "execution_count": 26,
     "metadata": {},
     "output_type": "execute_result"
    }
   ],
   "source": [
    "category_df.Outlet_Type.value_counts()"
   ]
  },
  {
   "cell_type": "code",
   "execution_count": 27,
   "id": "bae860b6",
   "metadata": {
    "execution": {
     "iopub.execute_input": "2022-05-03T07:26:16.274502Z",
     "iopub.status.busy": "2022-05-03T07:26:16.274176Z",
     "iopub.status.idle": "2022-05-03T07:26:16.281258Z",
     "shell.execute_reply": "2022-05-03T07:26:16.280439Z"
    },
    "papermill": {
     "duration": 0.057319,
     "end_time": "2022-05-03T07:26:16.283357",
     "exception": false,
     "start_time": "2022-05-03T07:26:16.226038",
     "status": "completed"
    },
    "tags": []
   },
   "outputs": [
    {
     "data": {
      "text/plain": [
       "0    FDA15\n",
       "1    DRC01\n",
       "2    FDN15\n",
       "3    FDX07\n",
       "4    NCD19\n",
       "5    FDP36\n",
       "6    FDO10\n",
       "7    FDP10\n",
       "8    FDH17\n",
       "9    FDU28\n",
       "Name: Item_Identifier, dtype: object"
      ]
     },
     "execution_count": 27,
     "metadata": {},
     "output_type": "execute_result"
    }
   ],
   "source": [
    "category_df.Item_Identifier.head(10)"
   ]
  },
  {
   "cell_type": "code",
   "execution_count": 28,
   "id": "963d8101",
   "metadata": {
    "execution": {
     "iopub.execute_input": "2022-05-03T07:26:16.377271Z",
     "iopub.status.busy": "2022-05-03T07:26:16.376944Z",
     "iopub.status.idle": "2022-05-03T07:26:16.391422Z",
     "shell.execute_reply": "2022-05-03T07:26:16.390333Z"
    },
    "papermill": {
     "duration": 0.064811,
     "end_time": "2022-05-03T07:26:16.394515",
     "exception": false,
     "start_time": "2022-05-03T07:26:16.329704",
     "status": "completed"
    },
    "tags": []
   },
   "outputs": [
    {
     "name": "stderr",
     "output_type": "stream",
     "text": [
      "/opt/conda/lib/python3.7/site-packages/ipykernel_launcher.py:1: SettingWithCopyWarning: \n",
      "A value is trying to be set on a copy of a slice from a DataFrame.\n",
      "Try using .loc[row_indexer,col_indexer] = value instead\n",
      "\n",
      "See the caveats in the documentation: https://pandas.pydata.org/pandas-docs/stable/user_guide/indexing.html#returning-a-view-versus-a-copy\n",
      "  \"\"\"Entry point for launching an IPython kernel.\n"
     ]
    },
    {
     "data": {
      "text/plain": [
       "FD    6125\n",
       "NC    1599\n",
       "DR     799\n",
       "Name: Item_Codes, dtype: int64"
      ]
     },
     "execution_count": 28,
     "metadata": {},
     "output_type": "execute_result"
    }
   ],
   "source": [
    "category_df['Item_Codes'] = category_df['Item_Identifier'].apply(lambda x:x[0:2])\n",
    "category_df.Item_Codes.value_counts()"
   ]
  },
  {
   "cell_type": "code",
   "execution_count": 29,
   "id": "4af0a4bf",
   "metadata": {
    "execution": {
     "iopub.execute_input": "2022-05-03T07:26:16.491538Z",
     "iopub.status.busy": "2022-05-03T07:26:16.490808Z",
     "iopub.status.idle": "2022-05-03T07:26:16.506243Z",
     "shell.execute_reply": "2022-05-03T07:26:16.505368Z"
    },
    "papermill": {
     "duration": 0.066732,
     "end_time": "2022-05-03T07:26:16.508351",
     "exception": false,
     "start_time": "2022-05-03T07:26:16.441619",
     "status": "completed"
    },
    "tags": []
   },
   "outputs": [
    {
     "data": {
      "text/html": [
       "<div>\n",
       "<style scoped>\n",
       "    .dataframe tbody tr th:only-of-type {\n",
       "        vertical-align: middle;\n",
       "    }\n",
       "\n",
       "    .dataframe tbody tr th {\n",
       "        vertical-align: top;\n",
       "    }\n",
       "\n",
       "    .dataframe thead th {\n",
       "        text-align: right;\n",
       "    }\n",
       "</style>\n",
       "<table border=\"1\" class=\"dataframe\">\n",
       "  <thead>\n",
       "    <tr style=\"text-align: right;\">\n",
       "      <th></th>\n",
       "      <th>Item_Identifier</th>\n",
       "      <th>Item_Fat_Content</th>\n",
       "      <th>Item_Type</th>\n",
       "      <th>Outlet_Identifier</th>\n",
       "      <th>Outlet_Size</th>\n",
       "      <th>Outlet_Location_Type</th>\n",
       "      <th>Outlet_Type</th>\n",
       "      <th>Item_Codes</th>\n",
       "    </tr>\n",
       "  </thead>\n",
       "  <tbody>\n",
       "    <tr>\n",
       "      <th>0</th>\n",
       "      <td>FDA15</td>\n",
       "      <td>Low Fat</td>\n",
       "      <td>Dairy</td>\n",
       "      <td>OUT049</td>\n",
       "      <td>Medium</td>\n",
       "      <td>Tier 1</td>\n",
       "      <td>Supermarket Type1</td>\n",
       "      <td>FD</td>\n",
       "    </tr>\n",
       "    <tr>\n",
       "      <th>1</th>\n",
       "      <td>DRC01</td>\n",
       "      <td>Regular</td>\n",
       "      <td>Soft Drinks</td>\n",
       "      <td>OUT018</td>\n",
       "      <td>Medium</td>\n",
       "      <td>Tier 3</td>\n",
       "      <td>Supermarket Type2</td>\n",
       "      <td>DR</td>\n",
       "    </tr>\n",
       "    <tr>\n",
       "      <th>2</th>\n",
       "      <td>FDN15</td>\n",
       "      <td>Low Fat</td>\n",
       "      <td>Meat</td>\n",
       "      <td>OUT049</td>\n",
       "      <td>Medium</td>\n",
       "      <td>Tier 1</td>\n",
       "      <td>Supermarket Type1</td>\n",
       "      <td>FD</td>\n",
       "    </tr>\n",
       "    <tr>\n",
       "      <th>3</th>\n",
       "      <td>FDX07</td>\n",
       "      <td>Regular</td>\n",
       "      <td>Fruits and Vegetables</td>\n",
       "      <td>OUT010</td>\n",
       "      <td>NaN</td>\n",
       "      <td>Tier 3</td>\n",
       "      <td>Grocery Store</td>\n",
       "      <td>FD</td>\n",
       "    </tr>\n",
       "    <tr>\n",
       "      <th>4</th>\n",
       "      <td>NCD19</td>\n",
       "      <td>Low Fat</td>\n",
       "      <td>Household</td>\n",
       "      <td>OUT013</td>\n",
       "      <td>High</td>\n",
       "      <td>Tier 3</td>\n",
       "      <td>Supermarket Type1</td>\n",
       "      <td>NC</td>\n",
       "    </tr>\n",
       "  </tbody>\n",
       "</table>\n",
       "</div>"
      ],
      "text/plain": [
       "  Item_Identifier Item_Fat_Content              Item_Type Outlet_Identifier  \\\n",
       "0           FDA15          Low Fat                  Dairy            OUT049   \n",
       "1           DRC01          Regular            Soft Drinks            OUT018   \n",
       "2           FDN15          Low Fat                   Meat            OUT049   \n",
       "3           FDX07          Regular  Fruits and Vegetables            OUT010   \n",
       "4           NCD19          Low Fat              Household            OUT013   \n",
       "\n",
       "  Outlet_Size Outlet_Location_Type        Outlet_Type Item_Codes  \n",
       "0      Medium               Tier 1  Supermarket Type1         FD  \n",
       "1      Medium               Tier 3  Supermarket Type2         DR  \n",
       "2      Medium               Tier 1  Supermarket Type1         FD  \n",
       "3         NaN               Tier 3      Grocery Store         FD  \n",
       "4        High               Tier 3  Supermarket Type1         NC  "
      ]
     },
     "execution_count": 29,
     "metadata": {},
     "output_type": "execute_result"
    }
   ],
   "source": [
    "category_df.head()"
   ]
  },
  {
   "cell_type": "code",
   "execution_count": 30,
   "id": "7aebd93e",
   "metadata": {
    "execution": {
     "iopub.execute_input": "2022-05-03T07:26:16.605982Z",
     "iopub.status.busy": "2022-05-03T07:26:16.605247Z",
     "iopub.status.idle": "2022-05-03T07:26:16.627550Z",
     "shell.execute_reply": "2022-05-03T07:26:16.626796Z"
    },
    "papermill": {
     "duration": 0.073741,
     "end_time": "2022-05-03T07:26:16.630116",
     "exception": false,
     "start_time": "2022-05-03T07:26:16.556375",
     "status": "completed"
    },
    "tags": []
   },
   "outputs": [
    {
     "name": "stderr",
     "output_type": "stream",
     "text": [
      "/opt/conda/lib/python3.7/site-packages/ipykernel_launcher.py:1: SettingWithCopyWarning: \n",
      "A value is trying to be set on a copy of a slice from a DataFrame.\n",
      "Try using .loc[row_indexer,col_indexer] = value instead\n",
      "\n",
      "See the caveats in the documentation: https://pandas.pydata.org/pandas-docs/stable/user_guide/indexing.html#returning-a-view-versus-a-copy\n",
      "  \"\"\"Entry point for launching an IPython kernel.\n"
     ]
    },
    {
     "data": {
      "text/plain": [
       "Item_Identifier         False\n",
       "Item_Fat_Content        False\n",
       "Item_Type               False\n",
       "Outlet_Identifier       False\n",
       "Outlet_Size             False\n",
       "Outlet_Location_Type    False\n",
       "Outlet_Type             False\n",
       "Item_Codes              False\n",
       "dtype: bool"
      ]
     },
     "execution_count": 30,
     "metadata": {},
     "output_type": "execute_result"
    }
   ],
   "source": [
    "category_df['Outlet_Size'] = category_df['Outlet_Size'].fillna(category_df['Outlet_Size'].mode()[0])\n",
    "\n",
    "category_df.isna().any()"
   ]
  },
  {
   "cell_type": "code",
   "execution_count": 31,
   "id": "a1e5ab5f",
   "metadata": {
    "execution": {
     "iopub.execute_input": "2022-05-03T07:26:16.728904Z",
     "iopub.status.busy": "2022-05-03T07:26:16.728276Z",
     "iopub.status.idle": "2022-05-03T07:26:16.751653Z",
     "shell.execute_reply": "2022-05-03T07:26:16.750527Z"
    },
    "papermill": {
     "duration": 0.075244,
     "end_time": "2022-05-03T07:26:16.753754",
     "exception": false,
     "start_time": "2022-05-03T07:26:16.678510",
     "status": "completed"
    },
    "tags": []
   },
   "outputs": [
    {
     "name": "stderr",
     "output_type": "stream",
     "text": [
      "/opt/conda/lib/python3.7/site-packages/pandas/core/frame.py:4913: SettingWithCopyWarning: \n",
      "A value is trying to be set on a copy of a slice from a DataFrame\n",
      "\n",
      "See the caveats in the documentation: https://pandas.pydata.org/pandas-docs/stable/user_guide/indexing.html#returning-a-view-versus-a-copy\n",
      "  errors=errors,\n"
     ]
    },
    {
     "data": {
      "text/html": [
       "<div>\n",
       "<style scoped>\n",
       "    .dataframe tbody tr th:only-of-type {\n",
       "        vertical-align: middle;\n",
       "    }\n",
       "\n",
       "    .dataframe tbody tr th {\n",
       "        vertical-align: top;\n",
       "    }\n",
       "\n",
       "    .dataframe thead th {\n",
       "        text-align: right;\n",
       "    }\n",
       "</style>\n",
       "<table border=\"1\" class=\"dataframe\">\n",
       "  <thead>\n",
       "    <tr style=\"text-align: right;\">\n",
       "      <th></th>\n",
       "      <th>Item_Fat_Content</th>\n",
       "      <th>Item_Type</th>\n",
       "      <th>Outlet_Identifier</th>\n",
       "      <th>Outlet_Size</th>\n",
       "      <th>Outlet_Location_Type</th>\n",
       "      <th>Outlet_Type</th>\n",
       "      <th>Item_Codes</th>\n",
       "    </tr>\n",
       "  </thead>\n",
       "  <tbody>\n",
       "    <tr>\n",
       "      <th>0</th>\n",
       "      <td>Low Fat</td>\n",
       "      <td>Dairy</td>\n",
       "      <td>OUT049</td>\n",
       "      <td>Medium</td>\n",
       "      <td>Tier 1</td>\n",
       "      <td>Supermarket Type1</td>\n",
       "      <td>FD</td>\n",
       "    </tr>\n",
       "    <tr>\n",
       "      <th>1</th>\n",
       "      <td>Regular</td>\n",
       "      <td>Soft Drinks</td>\n",
       "      <td>OUT018</td>\n",
       "      <td>Medium</td>\n",
       "      <td>Tier 3</td>\n",
       "      <td>Supermarket Type2</td>\n",
       "      <td>DR</td>\n",
       "    </tr>\n",
       "    <tr>\n",
       "      <th>2</th>\n",
       "      <td>Low Fat</td>\n",
       "      <td>Meat</td>\n",
       "      <td>OUT049</td>\n",
       "      <td>Medium</td>\n",
       "      <td>Tier 1</td>\n",
       "      <td>Supermarket Type1</td>\n",
       "      <td>FD</td>\n",
       "    </tr>\n",
       "    <tr>\n",
       "      <th>3</th>\n",
       "      <td>Regular</td>\n",
       "      <td>Fruits and Vegetables</td>\n",
       "      <td>OUT010</td>\n",
       "      <td>Medium</td>\n",
       "      <td>Tier 3</td>\n",
       "      <td>Grocery Store</td>\n",
       "      <td>FD</td>\n",
       "    </tr>\n",
       "    <tr>\n",
       "      <th>4</th>\n",
       "      <td>Low Fat</td>\n",
       "      <td>Household</td>\n",
       "      <td>OUT013</td>\n",
       "      <td>High</td>\n",
       "      <td>Tier 3</td>\n",
       "      <td>Supermarket Type1</td>\n",
       "      <td>NC</td>\n",
       "    </tr>\n",
       "  </tbody>\n",
       "</table>\n",
       "</div>"
      ],
      "text/plain": [
       "  Item_Fat_Content              Item_Type Outlet_Identifier Outlet_Size  \\\n",
       "0          Low Fat                  Dairy            OUT049      Medium   \n",
       "1          Regular            Soft Drinks            OUT018      Medium   \n",
       "2          Low Fat                   Meat            OUT049      Medium   \n",
       "3          Regular  Fruits and Vegetables            OUT010      Medium   \n",
       "4          Low Fat              Household            OUT013        High   \n",
       "\n",
       "  Outlet_Location_Type        Outlet_Type Item_Codes  \n",
       "0               Tier 1  Supermarket Type1         FD  \n",
       "1               Tier 3  Supermarket Type2         DR  \n",
       "2               Tier 1  Supermarket Type1         FD  \n",
       "3               Tier 3      Grocery Store         FD  \n",
       "4               Tier 3  Supermarket Type1         NC  "
      ]
     },
     "execution_count": 31,
     "metadata": {},
     "output_type": "execute_result"
    }
   ],
   "source": [
    "category_df.drop('Item_Identifier', axis=1, inplace=True)\n",
    "numeric_df.drop('Outlet_Establishment_Year', axis=1, inplace=True)\n",
    "\n",
    "category_df.head()"
   ]
  },
  {
   "cell_type": "code",
   "execution_count": 32,
   "id": "72d5e60b",
   "metadata": {
    "execution": {
     "iopub.execute_input": "2022-05-03T07:26:16.855040Z",
     "iopub.status.busy": "2022-05-03T07:26:16.854694Z",
     "iopub.status.idle": "2022-05-03T07:26:16.864377Z",
     "shell.execute_reply": "2022-05-03T07:26:16.863411Z"
    },
    "papermill": {
     "duration": 0.062729,
     "end_time": "2022-05-03T07:26:16.866315",
     "exception": false,
     "start_time": "2022-05-03T07:26:16.803586",
     "status": "completed"
    },
    "tags": []
   },
   "outputs": [
    {
     "data": {
      "text/plain": [
       "FD    6125\n",
       "NC    1599\n",
       "DR     799\n",
       "Name: Item_Codes, dtype: int64"
      ]
     },
     "execution_count": 32,
     "metadata": {},
     "output_type": "execute_result"
    }
   ],
   "source": [
    "category_df['Item_Codes'].value_counts()"
   ]
  },
  {
   "cell_type": "code",
   "execution_count": 33,
   "id": "356ca532",
   "metadata": {
    "execution": {
     "iopub.execute_input": "2022-05-03T07:26:16.965717Z",
     "iopub.status.busy": "2022-05-03T07:26:16.965428Z",
     "iopub.status.idle": "2022-05-03T07:26:16.989836Z",
     "shell.execute_reply": "2022-05-03T07:26:16.989088Z"
    },
    "papermill": {
     "duration": 0.076533,
     "end_time": "2022-05-03T07:26:16.991578",
     "exception": false,
     "start_time": "2022-05-03T07:26:16.915045",
     "status": "completed"
    },
    "tags": []
   },
   "outputs": [
    {
     "data": {
      "text/html": [
       "<div>\n",
       "<style scoped>\n",
       "    .dataframe tbody tr th:only-of-type {\n",
       "        vertical-align: middle;\n",
       "    }\n",
       "\n",
       "    .dataframe tbody tr th {\n",
       "        vertical-align: top;\n",
       "    }\n",
       "\n",
       "    .dataframe thead th {\n",
       "        text-align: right;\n",
       "    }\n",
       "</style>\n",
       "<table border=\"1\" class=\"dataframe\">\n",
       "  <thead>\n",
       "    <tr style=\"text-align: right;\">\n",
       "      <th></th>\n",
       "      <th>Item_Fat_Content</th>\n",
       "      <th>Item_Type</th>\n",
       "      <th>Outlet_Identifier</th>\n",
       "      <th>Outlet_Size</th>\n",
       "      <th>Outlet_Location_Type</th>\n",
       "      <th>Outlet_Type</th>\n",
       "      <th>Item_Codes</th>\n",
       "    </tr>\n",
       "  </thead>\n",
       "  <tbody>\n",
       "    <tr>\n",
       "      <th>0</th>\n",
       "      <td>0</td>\n",
       "      <td>4</td>\n",
       "      <td>9</td>\n",
       "      <td>1</td>\n",
       "      <td>0</td>\n",
       "      <td>1</td>\n",
       "      <td>1</td>\n",
       "    </tr>\n",
       "    <tr>\n",
       "      <th>1</th>\n",
       "      <td>1</td>\n",
       "      <td>14</td>\n",
       "      <td>3</td>\n",
       "      <td>1</td>\n",
       "      <td>2</td>\n",
       "      <td>2</td>\n",
       "      <td>0</td>\n",
       "    </tr>\n",
       "    <tr>\n",
       "      <th>2</th>\n",
       "      <td>0</td>\n",
       "      <td>10</td>\n",
       "      <td>9</td>\n",
       "      <td>1</td>\n",
       "      <td>0</td>\n",
       "      <td>1</td>\n",
       "      <td>1</td>\n",
       "    </tr>\n",
       "    <tr>\n",
       "      <th>3</th>\n",
       "      <td>1</td>\n",
       "      <td>6</td>\n",
       "      <td>0</td>\n",
       "      <td>1</td>\n",
       "      <td>2</td>\n",
       "      <td>0</td>\n",
       "      <td>1</td>\n",
       "    </tr>\n",
       "    <tr>\n",
       "      <th>4</th>\n",
       "      <td>0</td>\n",
       "      <td>9</td>\n",
       "      <td>1</td>\n",
       "      <td>0</td>\n",
       "      <td>2</td>\n",
       "      <td>1</td>\n",
       "      <td>2</td>\n",
       "    </tr>\n",
       "  </tbody>\n",
       "</table>\n",
       "</div>"
      ],
      "text/plain": [
       "   Item_Fat_Content  Item_Type  Outlet_Identifier  Outlet_Size  \\\n",
       "0                 0          4                  9            1   \n",
       "1                 1         14                  3            1   \n",
       "2                 0         10                  9            1   \n",
       "3                 1          6                  0            1   \n",
       "4                 0          9                  1            0   \n",
       "\n",
       "   Outlet_Location_Type  Outlet_Type  Item_Codes  \n",
       "0                     0            1           1  \n",
       "1                     2            2           0  \n",
       "2                     0            1           1  \n",
       "3                     2            0           1  \n",
       "4                     2            1           2  "
      ]
     },
     "execution_count": 33,
     "metadata": {},
     "output_type": "execute_result"
    }
   ],
   "source": [
    "from sklearn.preprocessing import LabelEncoder\n",
    "le = LabelEncoder()\n",
    "\n",
    "dummy_df = category_df.apply(le.fit_transform)\n",
    "dummy_df.head()"
   ]
  },
  {
   "cell_type": "code",
   "execution_count": 34,
   "id": "d3cba3a4",
   "metadata": {
    "execution": {
     "iopub.execute_input": "2022-05-03T07:26:17.092068Z",
     "iopub.status.busy": "2022-05-03T07:26:17.091461Z",
     "iopub.status.idle": "2022-05-03T07:26:17.107447Z",
     "shell.execute_reply": "2022-05-03T07:26:17.106430Z"
    },
    "papermill": {
     "duration": 0.06856,
     "end_time": "2022-05-03T07:26:17.109792",
     "exception": false,
     "start_time": "2022-05-03T07:26:17.041232",
     "status": "completed"
    },
    "tags": []
   },
   "outputs": [
    {
     "data": {
      "text/html": [
       "<div>\n",
       "<style scoped>\n",
       "    .dataframe tbody tr th:only-of-type {\n",
       "        vertical-align: middle;\n",
       "    }\n",
       "\n",
       "    .dataframe tbody tr th {\n",
       "        vertical-align: top;\n",
       "    }\n",
       "\n",
       "    .dataframe thead th {\n",
       "        text-align: right;\n",
       "    }\n",
       "</style>\n",
       "<table border=\"1\" class=\"dataframe\">\n",
       "  <thead>\n",
       "    <tr style=\"text-align: right;\">\n",
       "      <th></th>\n",
       "      <th>Item_Weight</th>\n",
       "      <th>Item_Visibility</th>\n",
       "      <th>Item_MRP</th>\n",
       "      <th>Item_Outlet_Sales</th>\n",
       "      <th>Outlet_Age</th>\n",
       "      <th>Item_Fat_Content</th>\n",
       "      <th>Item_Type</th>\n",
       "      <th>Outlet_Identifier</th>\n",
       "      <th>Outlet_Size</th>\n",
       "      <th>Outlet_Location_Type</th>\n",
       "      <th>Outlet_Type</th>\n",
       "      <th>Item_Codes</th>\n",
       "    </tr>\n",
       "  </thead>\n",
       "  <tbody>\n",
       "    <tr>\n",
       "      <th>0</th>\n",
       "      <td>9.30</td>\n",
       "      <td>0.016047</td>\n",
       "      <td>249.8092</td>\n",
       "      <td>3735.1380</td>\n",
       "      <td>23</td>\n",
       "      <td>0</td>\n",
       "      <td>4</td>\n",
       "      <td>9</td>\n",
       "      <td>1</td>\n",
       "      <td>0</td>\n",
       "      <td>1</td>\n",
       "      <td>1</td>\n",
       "    </tr>\n",
       "    <tr>\n",
       "      <th>1</th>\n",
       "      <td>5.92</td>\n",
       "      <td>0.019278</td>\n",
       "      <td>48.2692</td>\n",
       "      <td>443.4228</td>\n",
       "      <td>13</td>\n",
       "      <td>1</td>\n",
       "      <td>14</td>\n",
       "      <td>3</td>\n",
       "      <td>1</td>\n",
       "      <td>2</td>\n",
       "      <td>2</td>\n",
       "      <td>0</td>\n",
       "    </tr>\n",
       "    <tr>\n",
       "      <th>2</th>\n",
       "      <td>17.50</td>\n",
       "      <td>0.016760</td>\n",
       "      <td>141.6180</td>\n",
       "      <td>2097.2700</td>\n",
       "      <td>23</td>\n",
       "      <td>0</td>\n",
       "      <td>10</td>\n",
       "      <td>9</td>\n",
       "      <td>1</td>\n",
       "      <td>0</td>\n",
       "      <td>1</td>\n",
       "      <td>1</td>\n",
       "    </tr>\n",
       "    <tr>\n",
       "      <th>3</th>\n",
       "      <td>19.20</td>\n",
       "      <td>0.066132</td>\n",
       "      <td>182.0950</td>\n",
       "      <td>732.3800</td>\n",
       "      <td>24</td>\n",
       "      <td>1</td>\n",
       "      <td>6</td>\n",
       "      <td>0</td>\n",
       "      <td>1</td>\n",
       "      <td>2</td>\n",
       "      <td>0</td>\n",
       "      <td>1</td>\n",
       "    </tr>\n",
       "    <tr>\n",
       "      <th>4</th>\n",
       "      <td>8.93</td>\n",
       "      <td>0.066132</td>\n",
       "      <td>53.8614</td>\n",
       "      <td>994.7052</td>\n",
       "      <td>35</td>\n",
       "      <td>0</td>\n",
       "      <td>9</td>\n",
       "      <td>1</td>\n",
       "      <td>0</td>\n",
       "      <td>2</td>\n",
       "      <td>1</td>\n",
       "      <td>2</td>\n",
       "    </tr>\n",
       "  </tbody>\n",
       "</table>\n",
       "</div>"
      ],
      "text/plain": [
       "   Item_Weight  Item_Visibility  Item_MRP  Item_Outlet_Sales  Outlet_Age  \\\n",
       "0         9.30         0.016047  249.8092          3735.1380          23   \n",
       "1         5.92         0.019278   48.2692           443.4228          13   \n",
       "2        17.50         0.016760  141.6180          2097.2700          23   \n",
       "3        19.20         0.066132  182.0950           732.3800          24   \n",
       "4         8.93         0.066132   53.8614           994.7052          35   \n",
       "\n",
       "   Item_Fat_Content  Item_Type  Outlet_Identifier  Outlet_Size  \\\n",
       "0                 0          4                  9            1   \n",
       "1                 1         14                  3            1   \n",
       "2                 0         10                  9            1   \n",
       "3                 1          6                  0            1   \n",
       "4                 0          9                  1            0   \n",
       "\n",
       "   Outlet_Location_Type  Outlet_Type  Item_Codes  \n",
       "0                     0            1           1  \n",
       "1                     2            2           0  \n",
       "2                     0            1           1  \n",
       "3                     2            0           1  \n",
       "4                     2            1           2  "
      ]
     },
     "execution_count": 34,
     "metadata": {},
     "output_type": "execute_result"
    }
   ],
   "source": [
    "clean_df = pd.concat([numeric_df, dummy_df], axis=1)\n",
    "clean_df.head()"
   ]
  },
  {
   "cell_type": "code",
   "execution_count": 35,
   "id": "46d03cf9",
   "metadata": {
    "execution": {
     "iopub.execute_input": "2022-05-03T07:26:17.211979Z",
     "iopub.status.busy": "2022-05-03T07:26:17.211312Z",
     "iopub.status.idle": "2022-05-03T07:26:17.608576Z",
     "shell.execute_reply": "2022-05-03T07:26:17.607703Z"
    },
    "papermill": {
     "duration": 0.450774,
     "end_time": "2022-05-03T07:26:17.610580",
     "exception": false,
     "start_time": "2022-05-03T07:26:17.159806",
     "status": "completed"
    },
    "tags": []
   },
   "outputs": [
    {
     "data": {
      "text/plain": [
       "<AxesSubplot:>"
      ]
     },
     "execution_count": 35,
     "metadata": {},
     "output_type": "execute_result"
    },
    {
     "data": {
      "image/png": "[encoded data removed]",
      "text/plain": [
       "<Figure size 720x504 with 2 Axes>"
      ]
     },
     "metadata": {},
     "output_type": "display_data"
    }
   ],
   "source": [
    "correlation = clean_df.corr()\n",
    "sns.heatmap(correlation)"
   ]
  },
  {
   "cell_type": "code",
   "execution_count": 36,
   "id": "b4f49a46",
   "metadata": {
    "execution": {
     "iopub.execute_input": "2022-05-03T07:26:17.715624Z",
     "iopub.status.busy": "2022-05-03T07:26:17.714716Z",
     "iopub.status.idle": "2022-05-03T07:26:17.722093Z",
     "shell.execute_reply": "2022-05-03T07:26:17.721004Z"
    },
    "papermill": {
     "duration": 0.061781,
     "end_time": "2022-05-03T07:26:17.723984",
     "exception": false,
     "start_time": "2022-05-03T07:26:17.662203",
     "status": "completed"
    },
    "tags": []
   },
   "outputs": [],
   "source": [
    "X = clean_df.drop('Item_Outlet_Sales', axis=1)\n",
    "y = clean_df['Item_Outlet_Sales']"
   ]
  },
  {
   "cell_type": "code",
   "execution_count": 37,
   "id": "8ab8378f",
   "metadata": {
    "execution": {
     "iopub.execute_input": "2022-05-03T07:26:17.830111Z",
     "iopub.status.busy": "2022-05-03T07:26:17.829754Z",
     "iopub.status.idle": "2022-05-03T07:26:17.868995Z",
     "shell.execute_reply": "2022-05-03T07:26:17.867885Z"
    },
    "papermill": {
     "duration": 0.097946,
     "end_time": "2022-05-03T07:26:17.873201",
     "exception": false,
     "start_time": "2022-05-03T07:26:17.775255",
     "status": "completed"
    },
    "tags": []
   },
   "outputs": [
    {
     "data": {
      "text/plain": [
       "0.5103955000104184"
      ]
     },
     "execution_count": 37,
     "metadata": {},
     "output_type": "execute_result"
    }
   ],
   "source": [
    "from sklearn.linear_model import LinearRegression\n",
    "lr = LinearRegression()\n",
    "\n",
    "model = lr.fit(X, y)\n",
    "model.score(X, y)"
   ]
  },
  {
   "cell_type": "code",
   "execution_count": null,
   "id": "f4e268ad",
   "metadata": {
    "papermill": {
     "duration": 0.052116,
     "end_time": "2022-05-03T07:26:18.059249",
     "exception": false,
     "start_time": "2022-05-03T07:26:18.007133",
     "status": "completed"
    },
    "tags": []
   },
   "outputs": [],
   "source": []
  }
 ],
 "metadata": {
  "kernelspec": {
   "display_name": "Python 3",
   "language": "python",
   "name": "python3"
  },
  "language_info": {
   "codemirror_mode": {
    "name": "ipython",
    "version": 3
   },
   "file_extension": ".py",
   "mimetype": "text/x-python",
   "name": "python",
   "nbconvert_exporter": "python",
   "pygments_lexer": "ipython3",
   "version": "3.7.12"
  },
  "papermill": {
   "default_parameters": {},
   "duration": 18.859848,
   "end_time": "2022-05-03T07:26:19.135116",
   "environment_variables": {},
   "exception": null,
   "input_path": "__notebook__.ipynb",
   "output_path": "__notebook__.ipynb",
   "parameters": {},
   "start_time": "2022-05-03T07:26:00.275268",
   "version": "2.3.4"
  }
 },
 "nbformat": 4,
 "nbformat_minor": 5
}
